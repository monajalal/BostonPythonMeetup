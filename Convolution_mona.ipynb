{
 "cells": [
  {
   "cell_type": "markdown",
   "metadata": {},
   "source": [
    "This is a bonus notebook that shows how we can implement convolution simply (if somewhat inefficiently) using strided memory to create \"virtual\" arrays against which to apply a convolution kernel."
   ]
  },
  {
   "cell_type": "code",
   "execution_count": null,
   "metadata": {},
   "outputs": [],
   "source": [
    "from scipy.signal import convolve2d"
   ]
  },
  {
   "cell_type": "code",
   "execution_count": null,
   "metadata": {},
   "outputs": [],
   "source": [
    "data = np.arange(25).reshape(5, 5)\n",
    "data"
   ]
  },
  {
   "cell_type": "code",
   "execution_count": null,
   "metadata": {},
   "outputs": [],
   "source": [
    "kernel = np.eye(3)\n",
    "kernel"
   ]
  },
  {
   "cell_type": "code",
   "execution_count": null,
   "metadata": {},
   "outputs": [],
   "source": [
    "convolve2d(data, kernel, mode='valid')"
   ]
  },
  {
   "cell_type": "code",
   "execution_count": null,
   "metadata": {},
   "outputs": [],
   "source": [
    "import numpy as np\n",
    "from matplotlib.pyplot import imshow\n",
    "from numpy.lib.stride_tricks import as_strided\n",
    "\n",
    "data = np.arange(30).reshape(6, 5)\n",
    "kernel = np.eye(3)\n",
    "\n",
    "\n",
    "def extrude_for_convolution(data, kernel):\n",
    "    # Indices of the top left corner of the last window.\n",
    "    last_row = data.shape[0] - (kernel.shape[0])\n",
    "    last_col = data.shape[1] - (kernel.shape[1])\n",
    "\n",
    "    num_windows = last_row * data.shape[1] + last_col + 1\n",
    "\n",
    "    shape = (num_windows,) + kernel.shape\n",
    "    strides = (data.strides[1],) + data.strides\n",
    "\n",
    "    # This is where the magic happens.\n",
    "    windows = as_strided(data, shape=shape, strides=strides)\n",
    "    \n",
    "    # \n",
    "    valid = np.arange(num_windows) % data.shape[1] <= last_col\n",
    "\n",
    "    return windows, valid\n",
    "\n",
    "\n",
    "def convolve_2d(data, kernel):\n",
    "    windows, valid = extrude_for_convolution(data, kernel)\n",
    "\n",
    "    # A 1D array containing the results of multiplying each window by the\n",
    "    # convolution kernel.\n",
    "    multiplication_results = np.tensordot(windows, kernel)[valid]\n",
    "\n",
    "    return multiplication_results.reshape(data.shape[0] - kernel.shape[0] + 1,\n",
    "                                          data.shape[1] - kernel.shape[1] + 1)"
   ]
  },
  {
   "cell_type": "code",
   "execution_count": null,
   "metadata": {},
   "outputs": [],
   "source": [
    "from skimage.data import horse\n",
    "image = horse()\n",
    "image.shape"
   ]
  },
  {
   "cell_type": "code",
   "execution_count": null,
   "metadata": {},
   "outputs": [],
   "source": [
    "imshow(image)"
   ]
  },
  {
   "cell_type": "code",
   "execution_count": null,
   "metadata": {},
   "outputs": [],
   "source": [
    "from scipy.signal import gaussian\n",
    "kernel = gaussian(3, 1) + gaussian(3, 1)[:, np.newaxis]\n",
    "kernel"
   ]
  },
  {
   "cell_type": "code",
   "execution_count": null,
   "metadata": {},
   "outputs": [],
   "source": [
    "blurred = convolve_2d(image, kernel)\n",
    "imshow(blurred)"
   ]
  },
  {
   "cell_type": "code",
   "execution_count": null,
   "metadata": {},
   "outputs": [],
   "source": []
  }
 ],
 "metadata": {
  "kernelspec": {
   "display_name": "Python 3",
   "language": "python",
   "name": "python3"
  },
  "language_info": {
   "codemirror_mode": {
    "name": "ipython",
    "version": 3
   },
   "file_extension": ".py",
   "mimetype": "text/x-python",
   "name": "python",
   "nbconvert_exporter": "python",
   "pygments_lexer": "ipython3",
   "version": "3.6.3"
  }
 },
 "nbformat": 4,
 "nbformat_minor": 2
}
