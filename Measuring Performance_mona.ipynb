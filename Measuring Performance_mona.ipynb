{
 "cells": [
  {
   "cell_type": "markdown",
   "metadata": {},
   "source": [
    "# Exercise: Measuring Performance of Numpy vs. Pure Python"
   ]
  },
  {
   "cell_type": "markdown",
   "metadata": {},
   "source": [
    "We've just seen that numpy allows us to run simple numerical computations much faster than pure Python. To show that, we used a few different functions and tools:\n",
    "\n",
    "- We used a `dot_product` method implemented in pure Python:\n",
    "\n",
    "```python\n",
    "def python_dot_product(xs, ys):\n",
    "    return sum(x * y for x, y in zip(xs, ys))\n",
    "```\n",
    "- We used two numpy implementations of `dot_product`:\n",
    "\n",
    "```python\n",
    "def manual_numpy_dot(xs, ys):\n",
    "    return (xs * ys).sum()\n",
    "\n",
    "def native_numpy_dot(xs, ys):\n",
    "    return xs.dot(ys)\n",
    "```\n",
    "\n",
    "- We used IPython's `%%timeit` magic as a simple way to measure how long a cell takes to run on average."
   ]
  },
  {
   "cell_type": "markdown",
   "metadata": {},
   "source": [
    "Unfortunately, nothing in programming comes for free. Numpy allows us to speed up computations on large arrays by performing one complex dispatch **per array** instead of a cheap dispatch **per array element**. This only gives us a speedup if we have many array elements."
   ]
  },
  {
   "cell_type": "markdown",
   "metadata": {},
   "source": [
    "Using the ``%%timeit`` builtin, can you figure out how many data points you need to have for a numpy dot product to be faster than a pure-python implementation?\n",
    "\n",
    "You can use the following functions to create test arrays."
   ]
  },
  {
   "cell_type": "code",
   "execution_count": null,
   "metadata": {},
   "outputs": [],
   "source": [
    "import numpy as np\n",
    "import random\n",
    "\n",
    "def make_list(size):\n",
    "    state = random.Random()\n",
    "    return [state.random() for _ in range(size)]\n",
    "\n",
    "def make_numpy_array(size):\n",
    "    state = np.random.RandomState()\n",
    "    return state.uniform(size=size)"
   ]
  }
 ],
 "metadata": {
  "kernelspec": {
   "display_name": "Python 3",
   "language": "python",
   "name": "python3"
  },
  "language_info": {
   "codemirror_mode": {
    "name": "ipython",
    "version": 3
   },
   "file_extension": ".py",
   "mimetype": "text/x-python",
   "name": "python",
   "nbconvert_exporter": "python",
   "pygments_lexer": "ipython3",
   "version": "3.6.3"
  }
 },
 "nbformat": 4,
 "nbformat_minor": 2
}
