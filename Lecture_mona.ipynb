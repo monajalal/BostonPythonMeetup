{
 "cells": [
  {
   "cell_type": "code",
   "execution_count": null,
   "metadata": {
    "autoscroll": false,
    "ein.tags": "worksheet-0",
    "slideshow": {
     "slide_type": "skip"
    }
   },
   "outputs": [],
   "source": [
    "%matplotlib inline\n",
    "%load_ext fortranmagic\n",
    "\n",
    "import pandas as pd\n",
    "import numpy as np\n",
    "import matplotlib as mpl\n",
    "import matplotlib.pyplot as plt\n",
    "import seaborn as sns\n",
    "\n",
    "mpl.rc('figure', figsize=(12, 7))\n",
    "\n",
    "# These will be used later.\n",
    "jan2017 = pd.to_datetime(['2017-01-03 00:00:00+00:00',\n",
    " '2017-01-04 00:00:00+00:00',\n",
    " '2017-01-05 00:00:00+00:00',\n",
    " '2017-01-06 00:00:00+00:00',\n",
    " '2017-01-09 00:00:00+00:00',\n",
    " '2017-01-10 00:00:00+00:00',\n",
    " '2017-01-11 00:00:00+00:00',\n",
    " '2017-01-12 00:00:00+00:00',\n",
    " '2017-01-13 00:00:00+00:00',\n",
    " '2017-01-17 00:00:00+00:00'])\n",
    "calendar = jan2017.values.astype('datetime64[D]')\n",
    "\n",
    "event_dates = pd.to_datetime(['2017-01-06 00:00:00+00:00', \n",
    "                             '2017-01-07 00:00:00+00:00', \n",
    "                             '2017-01-08 00:00:00+00:00',\n",
    "                             '2017-01-11 00:00:00+00:00']).values.astype('datetime64[D]')\n",
    "event_values = np.array([10, 15, 20, 25])\n",
    "\n",
    "def plot(xs, ys=None):\n",
    "    if ys is None:\n",
    "        return pd.Series(xs).plot()\n",
    "    return pd.Series(index=xs, data=ys).plot()\n",
    "\n",
    "ran_the_first_cell = True"
   ]
  },
  {
   "cell_type": "markdown",
   "metadata": {
    "ein.tags": "worksheet-0",
    "slideshow": {
     "slide_type": "slide"
    }
   },
   "source": [
    "<center>\n",
    "  <h1>Foundations of Numerical Computing</h1>\n",
    "  <h3>Scott Sanderson (GitHub: [@ssanderson](https://github.com/ssanderson), Twitter: [@scottbsanderson](https://twitter.com/scottbsanderson) )</h3>\n",
    "  <h3>[https://github.com/ssanderson/foundations-of-numerical-computing](https://github.com/ssanderson/foundations-of-numerical-computing)</h3>\n",
    "</center>"
   ]
  },
  {
   "cell_type": "markdown",
   "metadata": {
    "collapsed": true,
    "ein.tags": "worksheet-0",
    "slideshow": {
     "slide_type": "slide"
    }
   },
   "source": [
    "# About Me:\n",
    "\n",
    "- Senior Engineer at [Quantopian](www.quantopian.com)\n",
    "- I build tools for strangers on the internet to write quantitative trading strategies in Python.\n",
    "- Most of those tools are built on top of numpy."
   ]
  },
  {
   "cell_type": "markdown",
   "metadata": {
    "slideshow": {
     "slide_type": "slide"
    }
   },
   "source": [
    "## Introduction\n",
    "\n",
    "The goal of this tutorial is help you effectively solve numerically-intensive problems in Python.\n",
    "\n",
    "In practice, doing numerical programming in Python means using [`numpy`](http://www.numpy.org/) (or a library built on top of `numpy`).\n",
    "\n",
    "Using `numpy` effectively requires changing the way that you think about and solve problems.  TODO: Sentence here?"
   ]
  },
  {
   "cell_type": "markdown",
   "metadata": {
    "slideshow": {
     "slide_type": "slide"
    }
   },
   "source": [
    "## Educational Philosophy\n",
    "\n",
    "Programming problems require two kinds of knowledge:\n",
    "\n",
    "- **Foundational Knowledge**\n",
    "- **Domain Knowledge**"
   ]
  },
  {
   "cell_type": "markdown",
   "metadata": {
    "slideshow": {
     "slide_type": "fragment"
    }
   },
   "source": [
    "Foundational Knowledge can be applicable across a wide variety of domains"
   ]
  },
  {
   "cell_type": "markdown",
   "metadata": {
    "slideshow": {
     "slide_type": "fragment"
    }
   },
   "source": [
    "Domain Knowledge is more specific, hence more limited in applicability, but crucial when it applies!"
   ]
  },
  {
   "cell_type": "markdown",
   "metadata": {
    "slideshow": {
     "slide_type": "fragment"
    }
   },
   "source": [
    "I get a lot more bang for my educational buck by teaching foundational knowledge."
   ]
  },
  {
   "cell_type": "markdown",
   "metadata": {
    "slideshow": {
     "slide_type": "slide"
    }
   },
   "source": [
    "# Data Structures\n",
    "\n",
    "> Rule 5. Data dominates. If you've chosen the right data structures and organized things well, the algorithms\n",
    "will almost always be self-evident. Data structures, not algorithms, are central to programming.\n",
    "\n",
    "- *Notes on Programming in C*, by Rob Pike."
   ]
  },
  {
   "cell_type": "markdown",
   "metadata": {
    "slideshow": {
     "slide_type": "slide"
    }
   },
   "source": [
    "# Review: Python Lists"
   ]
  },
  {
   "cell_type": "code",
   "execution_count": null,
   "metadata": {
    "slideshow": {
     "slide_type": "slide"
    }
   },
   "outputs": [],
   "source": [
    "assert ran_the_first_cell, \"You need to run the first cell!\""
   ]
  },
  {
   "cell_type": "code",
   "execution_count": null,
   "metadata": {
    "slideshow": {
     "slide_type": "subslide"
    }
   },
   "outputs": [],
   "source": [
    "l = [1, 'two', 3.0, 4, 5j, \"six\"]\n",
    "l"
   ]
  },
  {
   "cell_type": "code",
   "execution_count": null,
   "metadata": {
    "slideshow": {
     "slide_type": "subslide"
    }
   },
   "outputs": [],
   "source": [
    "# Lists can be indexed like C-style arrays.\n",
    "first = l[0]\n",
    "second = l[1]\n",
    "print(\"first:\", first)\n",
    "print(\"second:\", second)"
   ]
  },
  {
   "cell_type": "code",
   "execution_count": null,
   "metadata": {
    "slideshow": {
     "slide_type": "subslide"
    }
   },
   "outputs": [],
   "source": [
    "# Negative indexing gives elements relative to the end of the list.\n",
    "last = l[-1]\n",
    "penultimate = l[-2]\n",
    "print(\"last:\", last)\n",
    "print(\"second to last:\", penultimate)"
   ]
  },
  {
   "cell_type": "code",
   "execution_count": null,
   "metadata": {
    "slideshow": {
     "slide_type": "subslide"
    }
   },
   "outputs": [],
   "source": [
    "# Lists can also be sliced, which makes a copy of elements between \n",
    "# start (inclusive) and stop (exclusive)\n",
    "sublist = l[1:3]\n",
    "sublist"
   ]
  },
  {
   "cell_type": "code",
   "execution_count": null,
   "metadata": {
    "slideshow": {
     "slide_type": "subslide"
    }
   },
   "outputs": [],
   "source": [
    "# l[:N] is equivalent to l[0:N].\n",
    "first_three = l[:3]\n",
    "first_three"
   ]
  },
  {
   "cell_type": "code",
   "execution_count": null,
   "metadata": {
    "slideshow": {
     "slide_type": "fragment"
    }
   },
   "outputs": [],
   "source": [
    "# l[3:] is equivalent to l[3:len(l)].\n",
    "after_three = l[3:]\n",
    "after_three"
   ]
  },
  {
   "cell_type": "code",
   "execution_count": null,
   "metadata": {
    "slideshow": {
     "slide_type": "subslide"
    }
   },
   "outputs": [],
   "source": [
    "# There's also a third parameter, \"step\", which gets every Nth element.\n",
    "l = ['a', 'b', 'c', 'd', 'e', 'f', 'g','h']\n",
    "l[1:7:2]"
   ]
  },
  {
   "cell_type": "code",
   "execution_count": null,
   "metadata": {
    "slideshow": {
     "slide_type": "subslide"
    }
   },
   "outputs": [],
   "source": [
    "# Indexing with a step of -1 is a cute way to reverse a list.\n",
    "l[::-1]"
   ]
  },
  {
   "cell_type": "code",
   "execution_count": null,
   "metadata": {
    "slideshow": {
     "slide_type": "subslide"
    }
   },
   "outputs": [],
   "source": [
    "# Lists can be grown efficiently (in O(1) amortized time).\n",
    "l = [1, 2, 3, 4, 5]\n",
    "print(\"Before:\", l)\n",
    "l.append('six')\n",
    "print(\"After:\", l)"
   ]
  },
  {
   "cell_type": "code",
   "execution_count": null,
   "metadata": {
    "slideshow": {
     "slide_type": "subslide"
    }
   },
   "outputs": [],
   "source": [
    "# Comprehensions let us perform elementwise computations.\n",
    "l = [1, 2, 3, 4, 5]\n",
    "[x * 2 for x in l]"
   ]
  },
  {
   "cell_type": "markdown",
   "metadata": {
    "ein.tags": "worksheet-0",
    "slideshow": {
     "slide_type": "subslide"
    }
   },
   "source": [
    "## Review of Review: Python Lists\n",
    "\n",
    "- Zero-indexed sequence of values.\n",
    "- Can hold values of different types in a single list.\n",
    "- Slicing syntax: `l[start:stop:step]` copies elements at regular intervals from `start` to `stop`.\n",
    "- Efficient (`O(1)`) appends and removes from end.\n",
    "- Comprehension syntax: `[f(x) for x in l if cond(x)]`."
   ]
  },
  {
   "cell_type": "markdown",
   "metadata": {
    "slideshow": {
     "slide_type": "slide"
    }
   },
   "source": [
    "<center><img src=\"images/pacino.gif\" alt=\"Drawing\" style=\"width: 100%;\"/></center>"
   ]
  },
  {
   "cell_type": "markdown",
   "metadata": {
    "slideshow": {
     "slide_type": "slide"
    }
   },
   "source": [
    "## Numerical Programming in Pure Python"
   ]
  },
  {
   "cell_type": "code",
   "execution_count": null,
   "metadata": {
    "slideshow": {
     "slide_type": "subslide"
    }
   },
   "outputs": [],
   "source": [
    "# Suppose we have some matrices...\n",
    "a = [[1, 2, 3],\n",
    "     [2, 3, 4],\n",
    "     [5, 6, 7],\n",
    "     [1, 1, 1]]\n",
    "\n",
    "b = [[1, 2, 3, 4],\n",
    "     [2, 3, 4, 5]]"
   ]
  },
  {
   "cell_type": "code",
   "execution_count": null,
   "metadata": {
    "slideshow": {
     "slide_type": "subslide"
    }
   },
   "outputs": [],
   "source": [
    "def matmul(A, B):\n",
    "    \"\"\"Multiply matrix A by matrix B.\"\"\"\n",
    "    \n",
    "    rows_out = len(A)\n",
    "    cols_out = len(B[0])\n",
    "    out = [[0 for col in range(cols_out)] for row in range(rows_out)]\n",
    "    \n",
    "    for i in range(rows_out):\n",
    "        for j in range(cols_out):\n",
    "            for k in range(len(B)):\n",
    "                out[i][j] += A[i][k] * B[k][j]\n",
    "    return out\n",
    "\n",
    "matmul(a, b)"
   ]
  },
  {
   "cell_type": "markdown",
   "metadata": {
    "slideshow": {
     "slide_type": "subslide"
    }
   },
   "source": [
    "<center><img src=\"images/gross.gif\" alt=\"Drawing\" style=\"width: 50%;\"/></center>\n"
   ]
  },
  {
   "cell_type": "code",
   "execution_count": null,
   "metadata": {
    "slideshow": {
     "slide_type": "subslide"
    }
   },
   "outputs": [],
   "source": [
    "%%time\n",
    "matmul(a, b)"
   ]
  },
  {
   "cell_type": "code",
   "execution_count": null,
   "metadata": {
    "slideshow": {
     "slide_type": "subslide"
    }
   },
   "outputs": [],
   "source": [
    "import random\n",
    "def random_matrix(m, n):\n",
    "    out = []\n",
    "    for row in range(m):\n",
    "        out.append([random.random() for _ in range(n)])\n",
    "    return out\n",
    "\n",
    "randm = random_matrix(2, 3)\n",
    "randm"
   ]
  },
  {
   "cell_type": "code",
   "execution_count": null,
   "metadata": {
    "slideshow": {
     "slide_type": "subslide"
    }
   },
   "outputs": [],
   "source": [
    "%%time\n",
    "randa = random_matrix(500, 100)\n",
    "randb = random_matrix(100, 500)\n",
    "x = matmul(randa, randb)"
   ]
  },
  {
   "cell_type": "code",
   "execution_count": null,
   "metadata": {
    "slideshow": {
     "slide_type": "subslide"
    }
   },
   "outputs": [],
   "source": [
    "# Maybe that's as good as we can do?  Let's try a simpler case.\n",
    "def python_dot_product(xs, ys):\n",
    "    return sum(x * y for x, y in zip(xs, ys))"
   ]
  },
  {
   "cell_type": "code",
   "execution_count": null,
   "metadata": {
    "slideshow": {
     "slide_type": "fragment"
    }
   },
   "outputs": [],
   "source": [
    "%%fortran\n",
    "subroutine fortran_dot_product(xs, ys, result)\n",
    "    double precision, intent(in) :: xs(:)\n",
    "    double precision, intent(in) :: ys(:)\n",
    "    double precision, intent(out) :: result\n",
    "    \n",
    "    result = sum(xs * ys)\n",
    "end"
   ]
  },
  {
   "cell_type": "code",
   "execution_count": null,
   "metadata": {
    "slideshow": {
     "slide_type": "subslide"
    }
   },
   "outputs": [],
   "source": [
    "list_data = [float(i) for i in range(100000)]\n",
    "array_data = np.array(list_data)"
   ]
  },
  {
   "cell_type": "code",
   "execution_count": null,
   "metadata": {
    "slideshow": {
     "slide_type": "fragment"
    }
   },
   "outputs": [],
   "source": [
    "%%time\n",
    "python_dot_product(list_data, list_data)"
   ]
  },
  {
   "cell_type": "code",
   "execution_count": null,
   "metadata": {
    "slideshow": {
     "slide_type": "fragment"
    }
   },
   "outputs": [],
   "source": [
    "%%time\n",
    "fortran_dot_product(array_data, array_data)"
   ]
  },
  {
   "cell_type": "markdown",
   "metadata": {
    "slideshow": {
     "slide_type": "slide"
    }
   },
   "source": [
    "<center><img src=\"images/sloth.gif\" alt=\"Drawing\" style=\"width: 1080px;\"/></center>"
   ]
  },
  {
   "cell_type": "markdown",
   "metadata": {
    "slideshow": {
     "slide_type": "slide"
    }
   },
   "source": [
    "## Why is the Python Version so Much Slower?"
   ]
  },
  {
   "cell_type": "code",
   "execution_count": null,
   "metadata": {
    "slideshow": {
     "slide_type": "subslide"
    }
   },
   "outputs": [],
   "source": [
    "# Dynamic typing.\n",
    "def multiply_elementwise(xs, ys):\n",
    "    return [x * y for x, y in zip(xs, ys)]\n",
    "\n",
    "multiply_elementwise([1, 2, 3, 4], [1, 2 + 0j, 3.0, 'four'])\n",
    "#[type(x) for x in _]"
   ]
  },
  {
   "cell_type": "code",
   "execution_count": null,
   "metadata": {
    "slideshow": {
     "slide_type": "subslide"
    }
   },
   "outputs": [],
   "source": [
    "# Interpretation overhead.\n",
    "source_code = 'a + b * c'\n",
    "bytecode = compile(source_code, '', 'eval')\n",
    "import dis; dis.dis(bytecode)"
   ]
  },
  {
   "cell_type": "markdown",
   "metadata": {
    "slideshow": {
     "slide_type": "slide"
    }
   },
   "source": [
    "## Review: Why is the Python Version so Slow?\n",
    "- Dynamic typing means that every single operation requires dispatching on the input type.\n",
    "- Having an interpreter means that every instruction is fetched and dispatched at runtime.\n",
    "- Other overheads:\n",
    "  - Arbitrary-size integers.\n",
    "  - Reference-counted garbage collection."
   ]
  },
  {
   "cell_type": "markdown",
   "metadata": {
    "slideshow": {
     "slide_type": "subslide"
    }
   },
   "source": [
    "> This is the paradox that we have to work with when we're doing scientific or numerically-intensive Python. What makes Python fast for development -- this high-level, interpreted, and dynamically-typed aspect of the language -- is exactly what makes it slow for code execution.\n",
    "\n",
    "- Jake VanderPlas, [*Losing Your Loops: Fast Numerical Computing with NumPy*](https://www.youtube.com/watch?v=EEUXKG97YRw)"
   ]
  },
  {
   "cell_type": "markdown",
   "metadata": {
    "slideshow": {
     "slide_type": "slide"
    }
   },
   "source": [
    "# What Do We Do?"
   ]
  },
  {
   "cell_type": "markdown",
   "metadata": {
    "slideshow": {
     "slide_type": "subslide"
    }
   },
   "source": [
    "<center><img src=\"images/runaway.gif\" alt=\"Drawing\" style=\"width: 50%;\"/></center>"
   ]
  },
  {
   "cell_type": "markdown",
   "metadata": {
    "slideshow": {
     "slide_type": "subslide"
    }
   },
   "source": [
    "<center><img src=\"images/thisisfine.gif\" alt=\"Drawing\" style=\"width: 1080px;\"/></center>"
   ]
  },
  {
   "cell_type": "markdown",
   "metadata": {
    "slideshow": {
     "slide_type": "slide"
    }
   },
   "source": [
    "- Normal Python is slow for numerical computation because it performs dynamic dispatch on every operation we perform..."
   ]
  },
  {
   "cell_type": "markdown",
   "metadata": {
    "collapsed": true,
    "slideshow": {
     "slide_type": "fragment"
    }
   },
   "source": [
    "- ...but often, we just want to do the same thing over and over in a loop!"
   ]
  },
  {
   "cell_type": "markdown",
   "metadata": {
    "slideshow": {
     "slide_type": "fragment"
    }
   },
   "source": [
    "- If we don't need Python's dynamicism, can we find a way to not pay (much) for it?"
   ]
  },
  {
   "cell_type": "markdown",
   "metadata": {
    "slideshow": {
     "slide_type": "slide"
    }
   },
   "source": [
    "- **Idea:** Dispatch **once per logical operation** instead of **once per element**."
   ]
  },
  {
   "cell_type": "markdown",
   "metadata": {
    "slideshow": {
     "slide_type": "slide"
    }
   },
   "source": [
    "# Numpy"
   ]
  },
  {
   "cell_type": "code",
   "execution_count": null,
   "metadata": {
    "slideshow": {
     "slide_type": "slide"
    }
   },
   "outputs": [],
   "source": [
    "import numpy as np\n",
    "\n",
    "data = np.array([1, 2, 3, 4, 5, 6, 7, 8])\n",
    "\n",
    "print(\"Data:\", data)\n",
    "print(\"===========\")\n",
    "print(\"DType:\", data.dtype)\n",
    "print(\"Shape:\", data.shape)"
   ]
  },
  {
   "cell_type": "code",
   "execution_count": null,
   "metadata": {
    "slideshow": {
     "slide_type": "fragment"
    }
   },
   "outputs": [],
   "source": [
    "# Numpy provides operators that \"vectorize\" over the entire array.\n",
    "data + data"
   ]
  },
  {
   "cell_type": "code",
   "execution_count": null,
   "metadata": {
    "slideshow": {
     "slide_type": "subslide"
    }
   },
   "outputs": [],
   "source": [
    "%%time\n",
    "# Naive dot product\n",
    "(array_data * array_data).sum()"
   ]
  },
  {
   "cell_type": "code",
   "execution_count": null,
   "metadata": {
    "slideshow": {
     "slide_type": "fragment"
    }
   },
   "outputs": [],
   "source": [
    "%%time\n",
    "# Built-in dot product.\n",
    "array_data.dot(array_data)"
   ]
  },
  {
   "cell_type": "code",
   "execution_count": null,
   "metadata": {
    "slideshow": {
     "slide_type": "fragment"
    }
   },
   "outputs": [],
   "source": [
    "%%time\n",
    "fortran_dot_product(array_data, array_data)"
   ]
  },
  {
   "cell_type": "code",
   "execution_count": null,
   "metadata": {
    "slideshow": {
     "slide_type": "subslide"
    }
   },
   "outputs": [],
   "source": [
    "# Numpy won't allow us to write a string into an int array.\n",
    "data[0] = \"foo\""
   ]
  },
  {
   "cell_type": "code",
   "execution_count": null,
   "metadata": {
    "slideshow": {
     "slide_type": "subslide"
    }
   },
   "outputs": [],
   "source": [
    "# We also can't grow an array once it's created.\n",
    "data.append(3)"
   ]
  },
  {
   "cell_type": "code",
   "execution_count": null,
   "metadata": {
    "slideshow": {
     "slide_type": "subslide"
    }
   },
   "outputs": [],
   "source": [
    "# We **can** reshape an array as long as the number of elements doesn't change.\n",
    "reshaped = data.reshape(4, 2)\n",
    "reshaped"
   ]
  },
  {
   "cell_type": "markdown",
   "metadata": {
    "slideshow": {
     "slide_type": "subslide"
    }
   },
   "source": [
    "Numpy arrays are:\n",
    "\n",
    "- Fixed-type"
   ]
  },
  {
   "cell_type": "markdown",
   "metadata": {
    "slideshow": {
     "slide_type": "fragment"
    }
   },
   "source": [
    "- Size-immutable"
   ]
  },
  {
   "cell_type": "markdown",
   "metadata": {
    "slideshow": {
     "slide_type": "fragment"
    }
   },
   "source": [
    "- Multi-dimensional"
   ]
  },
  {
   "cell_type": "markdown",
   "metadata": {
    "slideshow": {
     "slide_type": "fragment"
    }
   },
   "source": [
    "- Fast\\*"
   ]
  },
  {
   "cell_type": "markdown",
   "metadata": {
    "slideshow": {
     "slide_type": "fragment"
    }
   },
   "source": [
    "\\* If you use them correctly."
   ]
  },
  {
   "cell_type": "markdown",
   "metadata": {
    "slideshow": {
     "slide_type": "slide"
    }
   },
   "source": [
    "# Exercises - Finding Help and Measuring Performance"
   ]
  },
  {
   "cell_type": "markdown",
   "metadata": {
    "slideshow": {
     "slide_type": "slide"
    }
   },
   "source": [
    "## Solving Problems with Numpy - Overview\n",
    "\n",
    "Numpy can be fast because it allows us to specify operations to perform against an entire array.\n",
    "\n",
    "We can break down the tools provided by numpy into a few categories:\n",
    "\n",
    "1. Universal Functions (UFuncs)\n",
    "2. Selection\n",
    "3. Reductions\n",
    "4. Broadcasting\n",
    "\n",
    "Taken together, these operations form an expressive toolbox that can solve a diverse set of problems."
   ]
  },
  {
   "cell_type": "markdown",
   "metadata": {
    "slideshow": {
     "slide_type": "slide"
    }
   },
   "source": [
    "## Creating Arrays\n",
    "\n",
    "Numpy provides many functions for creating arrays.\n",
    "\n",
    "We'll be using the following functions throughout the tutorial:\n",
    "\n",
    "- `np.array`: Construct an array from a list of Python objects.\n",
    "- `np.arange`: Numpy equivalent of the `range` function.\n",
    "- `np.linspace`: Create an array from evenly-spaced points between two values.\n",
    "- `np.full`/`np.ones`/`np.zeros`: Create an array of a given shape with a constant value.\n",
    "- `np.full_like`/`np.ones_like`/`np.zeros_like`: Same, but using the shape of another array."
   ]
  },
  {
   "cell_type": "markdown",
   "metadata": {
    "slideshow": {
     "slide_type": "subslide"
    }
   },
   "source": [
    "## Creating Arrays (cont'd)\n",
    "\n",
    "- `np.eye`/`np.identity`/`np.diag`: Arrays with values on the diagonal. Useful for linear algebra.\n",
    "- `np.random`: Randomly-generated values from various distributions.\n",
    "- `np.load`/`np.save`: Load and save values from disk.\n",
    "- `pandas.read_csv`: Read values from a CSV. Returns a [`pandas.DataFrame`](https://pandas.pydata.org/)."
   ]
  },
  {
   "cell_type": "markdown",
   "metadata": {
    "slideshow": {
     "slide_type": "subslide"
    }
   },
   "source": [
    "## Exercise  - Creating and Reshaping Arrays"
   ]
  },
  {
   "cell_type": "markdown",
   "metadata": {
    "slideshow": {
     "slide_type": "slide"
    }
   },
   "source": [
    "## Solving Problems with Numpy - Universal Functions\n",
    "\n",
    "Universal functions (ufuncs) are functions that can be applied across one or more arrays of the same shape.\n",
    "\n",
    "They come in two main varieties:\n",
    "\n",
    "- **Unary UFuncs** apply a 1-argument function to every element of an array.\n",
    "- **Binary UFuncs** apply a 2-argument function to corresponding elements from two arrays."
   ]
  },
  {
   "cell_type": "code",
   "execution_count": null,
   "metadata": {
    "slideshow": {
     "slide_type": "subslide"
    }
   },
   "outputs": [],
   "source": [
    "data = np.arange(15).reshape(3, 5)\n",
    "data"
   ]
  },
  {
   "cell_type": "code",
   "execution_count": null,
   "metadata": {
    "slideshow": {
     "slide_type": "subslide"
    }
   },
   "outputs": [],
   "source": [
    "# Unary functions.\n",
    "np.sqrt(data)"
   ]
  },
  {
   "cell_type": "code",
   "execution_count": null,
   "metadata": {
    "slideshow": {
     "slide_type": "subslide"
    }
   },
   "outputs": [],
   "source": [
    "# Binary operators.\n",
    "data * data"
   ]
  },
  {
   "cell_type": "code",
   "execution_count": null,
   "metadata": {
    "slideshow": {
     "slide_type": "subslide"
    }
   },
   "outputs": [],
   "source": [
    "# Comparison operations\n",
    "(data % 3) == 0"
   ]
  },
  {
   "cell_type": "code",
   "execution_count": null,
   "metadata": {
    "slideshow": {
     "slide_type": "subslide"
    }
   },
   "outputs": [],
   "source": [
    "# Boolean combinators.\n",
    "((data % 2) == 0) & ((data % 3) == 0)"
   ]
  },
  {
   "cell_type": "code",
   "execution_count": null,
   "metadata": {
    "slideshow": {
     "slide_type": "subslide"
    }
   },
   "outputs": [],
   "source": [
    "# as of python 3.5, @ is matrix-multiply\n",
    "data @ data.T"
   ]
  },
  {
   "cell_type": "markdown",
   "metadata": {
    "slideshow": {
     "slide_type": "subslide"
    }
   },
   "source": [
    "## UFunc Functions\n",
    "\n",
    "All binary operator ufuncs have a normal function version:\n",
    "\n",
    "- `+`,`-`,`*`,`/` are the same as `add`, `subtract`, `multiply`, `divide`\n",
    "- `&`, `|`, `^`, `~` are the same as `bitwise_and`, `bitwise_or`, `bitwise_xor`, `bitwise_not`"
   ]
  },
  {
   "cell_type": "markdown",
   "metadata": {
    "slideshow": {
     "slide_type": "subslide"
    }
   },
   "source": [
    "Binary ufuncs are equipped with methods that implement common algorithms in terms of the ufunc.\n",
    "\n",
    "- `reduce` computes a summary by inserting the binary operator between each element.\n",
    "- `accumulate` is like `reduce`, but it outputs the intermediate values.\n",
    "- `outer` computes the binary operator on every pair of elements from two arrays."
   ]
  },
  {
   "cell_type": "code",
   "execution_count": null,
   "metadata": {},
   "outputs": [],
   "source": [
    "data = (np.random.RandomState(1).randint(-10, 10, 18).reshape(3, 6))\n",
    "data"
   ]
  },
  {
   "cell_type": "code",
   "execution_count": null,
   "metadata": {},
   "outputs": [],
   "source": [
    "np.add.accumulate(data, axis=0)"
   ]
  },
  {
   "cell_type": "markdown",
   "metadata": {
    "slideshow": {
     "slide_type": "subslide"
    }
   },
   "source": [
    "# UFuncs Review\n",
    "\n",
    "- UFuncs provide efficient elementwise operations applied across one or more arrays.\n",
    "- Arithmetic Operators (`+`, `*`, `/`)\n",
    "- Comparisons (`==`, `>`, `!=`)\n",
    "- Boolean Operators (`&`, `|`, `^`)\n",
    "- Trigonometric Functions (`sin`, `cos`)\n",
    "- Transcendental Functions (`exp`, `log`)"
   ]
  },
  {
   "cell_type": "markdown",
   "metadata": {
    "slideshow": {
     "slide_type": "subslide"
    }
   },
   "source": [
    "# UFuncs Review (cont'd)\n",
    "\n",
    "- UFunc Methods\n",
    "  - `reduce`\n",
    "  - `accumulate`\n",
    "  - `outer`\n",
    "  - `at` and `reduceat` (less common)"
   ]
  },
  {
   "cell_type": "markdown",
   "metadata": {
    "slideshow": {
     "slide_type": "slide"
    }
   },
   "source": [
    "# UFunc Exercises"
   ]
  },
  {
   "cell_type": "markdown",
   "metadata": {
    "slideshow": {
     "slide_type": "slide"
    }
   },
   "source": [
    "# Solving Problems with Numpy: Selections\n",
    "\n",
    "When working with numpy, we often find that we need to operate on only a subset of our data.\n",
    "\n",
    "Numpy arrays support the same set of rich slicing operations as Python lists, and they extend those semantics to support:\n",
    "\n",
    "1. Selection of multiple indices.\n",
    "2. Selection by boolean predicates.\n",
    "3. Multiple dimensions."
   ]
  },
  {
   "cell_type": "code",
   "execution_count": null,
   "metadata": {
    "slideshow": {
     "slide_type": "subslide"
    }
   },
   "outputs": [],
   "source": [
    "sines = np.sin(np.linspace(0, 3.14, 10))\n",
    "cosines = np.cos(np.linspace(0, 3.14, 10))\n",
    "sines"
   ]
  },
  {
   "cell_type": "code",
   "execution_count": null,
   "metadata": {
    "slideshow": {
     "slide_type": "subslide"
    }
   },
   "outputs": [],
   "source": [
    "# Indexing works with the same semantics as Python lists.\n",
    "sines[0]"
   ]
  },
  {
   "cell_type": "code",
   "execution_count": null,
   "metadata": {
    "slideshow": {
     "slide_type": "fragment"
    }
   },
   "outputs": [],
   "source": [
    "sines[:3]  # First three elements  "
   ]
  },
  {
   "cell_type": "code",
   "execution_count": null,
   "metadata": {
    "slideshow": {
     "slide_type": "fragment"
    }
   },
   "outputs": [],
   "source": [
    "sines[5:]  # Elements from 5 on."
   ]
  },
  {
   "cell_type": "code",
   "execution_count": null,
   "metadata": {
    "slideshow": {
     "slide_type": "fragment"
    }
   },
   "outputs": [],
   "source": [
    "sines[::2]  # Every other element."
   ]
  },
  {
   "cell_type": "code",
   "execution_count": null,
   "metadata": {
    "slideshow": {
     "slide_type": "subslide"
    }
   },
   "outputs": [],
   "source": [
    "# More interesting: we can index with boolean arrays to filter by a predicate.\n",
    "print(\"sines:\\n\", sines)\n",
    "print(\"\\nsines > 0.5:\\n\", sines > 0.5)\n",
    "print(\"\\nsines[sines > 0.5]:\\n\", sines[sines > 0.5])"
   ]
  },
  {
   "cell_type": "code",
   "execution_count": null,
   "metadata": {
    "slideshow": {
     "slide_type": "subslide"
    }
   },
   "outputs": [],
   "source": [
    "# We index with lists/arrays of integers to select values at those indices.\n",
    "print(sines)\n",
    "sines[[0, 4, 7]]"
   ]
  },
  {
   "cell_type": "code",
   "execution_count": null,
   "metadata": {
    "slideshow": {
     "slide_type": "subslide"
    }
   },
   "outputs": [],
   "source": [
    "# Index arrays are often used for sorting one or more arrays.\n",
    "unsorted_data = np.array([1, 3, 2, 12, -1, 5, 2])"
   ]
  },
  {
   "cell_type": "code",
   "execution_count": null,
   "metadata": {
    "slideshow": {
     "slide_type": "fragment"
    }
   },
   "outputs": [],
   "source": [
    "sort_indices = np.argsort(unsorted_data)\n",
    "sort_indices"
   ]
  },
  {
   "cell_type": "code",
   "execution_count": null,
   "metadata": {
    "slideshow": {
     "slide_type": "fragment"
    }
   },
   "outputs": [],
   "source": [
    "unsorted_data[sort_indices]"
   ]
  },
  {
   "cell_type": "code",
   "execution_count": null,
   "metadata": {
    "slideshow": {
     "slide_type": "subslide"
    }
   },
   "outputs": [],
   "source": [
    "prices = np.array([12, 6, 10, 5, 6])\n",
    "tickers = np.array(['A', 'B', 'C', 'D', 'E'])"
   ]
  },
  {
   "cell_type": "code",
   "execution_count": null,
   "metadata": {
    "slideshow": {
     "slide_type": "fragment"
    }
   },
   "outputs": [],
   "source": [
    "# Sort assets by price by using the permutation that would sort market caps on ``assets``.\n",
    "sorter = np.argsort(prices)\n",
    "tickers[sorter]"
   ]
  },
  {
   "cell_type": "code",
   "execution_count": null,
   "metadata": {
    "scrolled": true,
    "slideshow": {
     "slide_type": "subslide"
    }
   },
   "outputs": [],
   "source": [
    "# Indexers are also useful for aligning data.\n",
    "print(\"Values:\\n\", repr(event_values))\n",
    "print(\"\\nLabels:\\n\", repr(event_dates))\n",
    "print(\"\\nCalendar:\\n\", repr(calendar))"
   ]
  },
  {
   "cell_type": "code",
   "execution_count": null,
   "metadata": {
    "slideshow": {
     "slide_type": "fragment"
    }
   },
   "outputs": [],
   "source": [
    "print(\"Raw Dates:\", event_dates)\n",
    "print(\"Indices:\", calendar.searchsorted(event_dates))\n",
    "#print(\"Forward-Filled Dates:\", calendar[calendar.searchsorted(event_dates)])"
   ]
  },
  {
   "cell_type": "markdown",
   "metadata": {
    "slideshow": {
     "slide_type": "subslide"
    }
   },
   "source": [
    "On multi-dimensional arrays, we can slice along each axis independently."
   ]
  },
  {
   "cell_type": "code",
   "execution_count": null,
   "metadata": {
    "slideshow": {
     "slide_type": "fragment"
    }
   },
   "outputs": [],
   "source": [
    "data = np.arange(25).reshape(5, 5)\n",
    "data"
   ]
  },
  {
   "cell_type": "code",
   "execution_count": null,
   "metadata": {
    "slideshow": {
     "slide_type": "fragment"
    }
   },
   "outputs": [],
   "source": [
    "data[1]             # Get the second row.\n",
    "#data[:2, :2]       # Get the first two rows and first two columns.\n",
    "#data[:2, [0, -1]]  # Get the first two rows, first/last columns."
   ]
  },
  {
   "cell_type": "code",
   "execution_count": null,
   "metadata": {
    "slideshow": {
     "slide_type": "fragment"
    }
   },
   "outputs": [],
   "source": [
    "data[(data[:, 0] % 2) == 0]  # Rows where the first column is divisible by two."
   ]
  },
  {
   "cell_type": "markdown",
   "metadata": {
    "slideshow": {
     "slide_type": "subslide"
    }
   },
   "source": [
    "Another common way to \"select\" data is to use `np.where` as a vectorized if-statement.\n",
    "\n",
    "`np.where` takes three arguments: a boolean mask, an array of values to use for True locations, and an array of values to use for False locations."
   ]
  },
  {
   "cell_type": "code",
   "execution_count": null,
   "metadata": {
    "slideshow": {
     "slide_type": "fragment"
    }
   },
   "outputs": [],
   "source": [
    "data = np.linspace(-5, 5, 9).reshape(3, 3)\n",
    "data"
   ]
  },
  {
   "cell_type": "code",
   "execution_count": null,
   "metadata": {
    "slideshow": {
     "slide_type": "slide"
    }
   },
   "outputs": [],
   "source": [
    "# We can implement a simple abs() function by selecting the data when the data > 0, and -data otherwise.\n",
    "np.where(data > 0, data, -data)"
   ]
  },
  {
   "cell_type": "markdown",
   "metadata": {
    "slideshow": {
     "slide_type": "slide"
    }
   },
   "source": [
    "# Selections Review\n",
    "\n",
    "- Basic slicing operations work on Numpy arrays the same way they do on lists.\n",
    "- Multidimensional arrays can apply selections independently along different axes.\n",
    "- Indexing with a scalar removes a dimension.\n",
    "- Indexing with slices, boolean arrays, index lists keep dimension unchanged.\n",
    "  - Slice selects across axis with same rules as Python list.\n",
    "  - Boolean array filters to coordinates where indexer is True.\n",
    "  - Index list selects each corresponding index.\n",
    "- `np.where` is like a vectorized if-statement."
   ]
  },
  {
   "cell_type": "markdown",
   "metadata": {
    "slideshow": {
     "slide_type": "slide"
    }
   },
   "source": [
    "# Selections Exercises"
   ]
  },
  {
   "cell_type": "markdown",
   "metadata": {
    "slideshow": {
     "slide_type": "slide"
    }
   },
   "source": [
    "## Reductions\n",
    "\n",
    "Another common class of operations in numpy is to \"summarize\" our data along a particular axis.\n",
    "\n",
    "Examples of common \"summaries\" are:\n",
    "\n",
    "- Minimum/Maximum\n",
    "- Location of Minimum/Maximum (`argmin`/`argmax`)\n",
    "- Sum/Product\n",
    "- Statistical Moments (mean, variance, skew, kurtosis)\n",
    "\n",
    "When we have a multidimensional array, we "
   ]
  },
  {
   "cell_type": "markdown",
   "metadata": {
    "slideshow": {
     "slide_type": "subslide"
    }
   },
   "source": [
    "$Var(X) = \\frac{1}{N}\\sum_{i=1}^N (x_i - \\bar{x})^2$"
   ]
  },
  {
   "cell_type": "code",
   "execution_count": null,
   "metadata": {
    "slideshow": {
     "slide_type": "fragment"
    }
   },
   "outputs": [],
   "source": [
    "def variance(x):\n",
    "    return ((x - x.mean()) ** 2).sum() / len(x)"
   ]
  },
  {
   "cell_type": "code",
   "execution_count": null,
   "metadata": {
    "slideshow": {
     "slide_type": "fragment"
    }
   },
   "outputs": [],
   "source": [
    "xs = np.random.standard_normal(1000)\n",
    "variance(xs)"
   ]
  },
  {
   "cell_type": "code",
   "execution_count": null,
   "metadata": {},
   "outputs": [],
   "source": [
    "np.var(xs)"
   ]
  },
  {
   "cell_type": "markdown",
   "metadata": {
    "slideshow": {
     "slide_type": "subslide"
    }
   },
   "source": [
    "- ...we can do more interesting things with multi-dimensional arrays."
   ]
  },
  {
   "cell_type": "code",
   "execution_count": null,
   "metadata": {
    "slideshow": {
     "slide_type": "fragment"
    }
   },
   "outputs": [],
   "source": [
    "data = np.arange(30).reshape(3, 10)\n",
    "data"
   ]
  },
  {
   "cell_type": "code",
   "execution_count": null,
   "metadata": {
    "slideshow": {
     "slide_type": "fragment"
    }
   },
   "outputs": [],
   "source": [
    "data.mean()"
   ]
  },
  {
   "cell_type": "code",
   "execution_count": null,
   "metadata": {
    "slideshow": {
     "slide_type": "fragment"
    }
   },
   "outputs": [],
   "source": [
    "data.mean(axis=0)"
   ]
  },
  {
   "cell_type": "code",
   "execution_count": null,
   "metadata": {
    "slideshow": {
     "slide_type": "fragment"
    }
   },
   "outputs": [],
   "source": [
    "data.mean(axis=1)"
   ]
  },
  {
   "cell_type": "markdown",
   "metadata": {
    "slideshow": {
     "slide_type": "subslide"
    }
   },
   "source": [
    "## Reductions Review\n",
    "\n",
    "- Reductions allow us to perform efficient aggregations over arrays.\n",
    "- We can do aggregations over an entire array, or along a given axis.\n",
    "- There are many built-in reductions:\n",
    "  - `np.mean`\n",
    "  - `np.var`\n",
    "  - `np.median`\n",
    "  - `np.count_nonzero`\n",
    "  - `np.min`\n",
    "  - `np.max`\n",
    "  - ... many more in packages like `scipy`."
   ]
  },
  {
   "cell_type": "markdown",
   "metadata": {
    "slideshow": {
     "slide_type": "slide"
    }
   },
   "source": [
    "# Reductions Exercises"
   ]
  },
  {
   "cell_type": "markdown",
   "metadata": {
    "slideshow": {
     "slide_type": "slide"
    }
   },
   "source": [
    "# Broadcasting\n",
    "\n",
    "When working with multi-dimensional data, we often encounter situations where we have two \"compatible\" arrays of different dimensions, and we want to perform an operation on both arrays. NumPy's [broadcasting](https://docs.scipy.org/doc/numpy/user/basics.broadcasting.html) system defines a set of rules that make this possible in a natural and intuitive way."
   ]
  },
  {
   "cell_type": "markdown",
   "metadata": {
    "slideshow": {
     "slide_type": "subslide"
    }
   },
   "source": [
    "## Array Scalar Broadcasting\n",
    "\n",
    "We've already seen one example of broadcasting in action: combining arrays with scalars.\n",
    "\n",
    "Whenever you call a function that expects two arrays of the same shape, you can replace one of the arrays with a scalar."
   ]
  },
  {
   "cell_type": "code",
   "execution_count": null,
   "metadata": {},
   "outputs": [],
   "source": [
    "data = np.eye(3)\n",
    "print(data)\n",
    "#print(data * 2)"
   ]
  },
  {
   "cell_type": "markdown",
   "metadata": {
    "slideshow": {
     "slide_type": "subslide"
    }
   },
   "source": [
    "## Broadcasting with \"Smaller\" Arrays\n",
    "\n",
    "Another common pattern where broadcasting is useful occurs when you have an N-dimensional array, and a \"smaller\" array whose dimensions are a subset of the larger array. \n",
    "\n",
    "A common way to create such an array is to apply one of the reductions we saw earlier."
   ]
  },
  {
   "cell_type": "code",
   "execution_count": null,
   "metadata": {
    "slideshow": {
     "slide_type": "subslide"
    }
   },
   "outputs": [],
   "source": [
    "rng = np.random.RandomState(42)\n",
    "data = rng.randint(-1, 5, (3, 6))\n",
    "data"
   ]
  },
  {
   "cell_type": "code",
   "execution_count": null,
   "metadata": {
    "slideshow": {
     "slide_type": "-"
    }
   },
   "outputs": [],
   "source": [
    "# Subtract the mean of each column the values in the column. \n",
    "# This is a common operation when fitting statistical models.\n",
    "print(\"Data:\\n\", data, sep='')\n",
    "print(\"\\nMean:\\n\", data.mean(axis=1), sep='')\n",
    "print(\"\\nData - Mean:\\n\", data - data.mean(axis=0), sep='')"
   ]
  },
  {
   "cell_type": "code",
   "execution_count": null,
   "metadata": {
    "slideshow": {
     "slide_type": "subslide"
    }
   },
   "outputs": [],
   "source": [
    "row = np.array([1, 2, 3, 4])\n",
    "column = np.array([[1], [2], [3]])\n",
    "print(\"Row:\\n\", row, sep='')\n",
    "print(\"Column:\\n\", column, sep='')"
   ]
  },
  {
   "cell_type": "code",
   "execution_count": null,
   "metadata": {
    "slideshow": {
     "slide_type": "fragment"
    }
   },
   "outputs": [],
   "source": [
    "row + column"
   ]
  },
  {
   "cell_type": "markdown",
   "metadata": {
    "slideshow": {
     "slide_type": "subslide"
    }
   },
   "source": [
    "# Broadcasting Rules\n",
    "\n",
    "Given arrays `x` and `y`:\n",
    "\n",
    "1. If either array has a smaller dimension, make the dimensions match by padding 1s to the shape of the smaller array.\n",
    "2. Iterate pairwise over the shapes of both arrays. At each coordinate:\n",
    "   - If the sizes of the arrays match, do nothing.\n",
    "   - If exactly one of the arrays has a dimension of size 1, make the dimensions match by \"tiling\" the smaller array along the current dimension.\n",
    "   - If the arrays have unequal dimensions and neither is equal to 1, raise an error."
   ]
  },
  {
   "cell_type": "markdown",
   "metadata": {
    "slideshow": {
     "slide_type": "subslide"
    }
   },
   "source": [
    "## Broadcasting Visualized"
   ]
  },
  {
   "cell_type": "markdown",
   "metadata": {
    "slideshow": {
     "slide_type": "subslide"
    }
   },
   "source": [
    "<center><img src=\"images/broadcasting.png\" alt=\"Drawing\" style=\"width: 60%;\"/></center>\n",
    "\n",
    "<h5>Source: http://www.scipy-lectures.org/_images/numpy_broadcasting.png</h5>"
   ]
  },
  {
   "cell_type": "code",
   "execution_count": null,
   "metadata": {
    "slideshow": {
     "slide_type": "subslide"
    }
   },
   "outputs": [],
   "source": [
    "x = np.linspace(-5, 5)\n",
    "y = x[:, np.newaxis]  # Indexing with newaxis appends a dimension of length-1 to an array.\n",
    "\n",
    "plt.imshow(np.sin(x) + np.cos(y));"
   ]
  },
  {
   "cell_type": "markdown",
   "metadata": {
    "slideshow": {
     "slide_type": "slide"
    }
   },
   "source": [
    "# Broadcasting Review\n",
    "\n",
    "- Numpy operations can work on arrays of different dimensions as long as the arrays' shapes are still \"compatible\".\n",
    "- Broadcasting works by \"tiling\" the smaller array along the missing dimension.\n",
    "- The result of a broadcasted operation is always at least as large in each dimension as the largest array in that dimension."
   ]
  },
  {
   "cell_type": "markdown",
   "metadata": {
    "slideshow": {
     "slide_type": "slide"
    }
   },
   "source": [
    "# Broadcasting Exercises"
   ]
  },
  {
   "cell_type": "markdown",
   "metadata": {
    "slideshow": {
     "slide_type": "slide"
    }
   },
   "source": [
    "# Peeking Under the Hood"
   ]
  },
  {
   "cell_type": "code",
   "execution_count": null,
   "metadata": {
    "slideshow": {
     "slide_type": "subslide"
    }
   },
   "outputs": [],
   "source": [
    "import numpy as np\n",
    "from numpy.lib.stride_tricks import as_strided\n",
    "\n",
    "data = np.array([1, 2, 3, 4, 5, 6, 7, 8])\n",
    "data\n",
    "\n",
    "print(\"===========\")\n",
    "print(\"DType:\", data.dtype)\n",
    "print(\"Shape:\", data.shape)\n",
    "print(\"Strides:\", data.strides)\n",
    "print(\"Data:\", data.data.tobytes())"
   ]
  },
  {
   "cell_type": "code",
   "execution_count": null,
   "metadata": {
    "slideshow": {
     "slide_type": "-"
    }
   },
   "outputs": [],
   "source": []
  },
  {
   "cell_type": "markdown",
   "metadata": {
    "slideshow": {
     "slide_type": "slide"
    }
   },
   "source": [
    "# Example: Implementing Convolution with Strided Memory"
   ]
  },
  {
   "cell_type": "markdown",
   "metadata": {
    "slideshow": {
     "slide_type": "slide"
    }
   },
   "source": [
    "# Review"
   ]
  },
  {
   "cell_type": "markdown",
   "metadata": {
    "slideshow": {
     "slide_type": "fragment"
    }
   },
   "source": [
    "- Numerical algorithms are slow in pure Python because the overhead of interpretation and dynamic dispatch dominates our runtime."
   ]
  },
  {
   "cell_type": "markdown",
   "metadata": {
    "slideshow": {
     "slide_type": "fragment"
    }
   },
   "source": [
    "- Numpy solves this problem by:\n",
    "  1. Imposing additional restrictions on the contents of arrays.\n",
    "  2. Moving the inner loops of our algorithms into compiled C code."
   ]
  },
  {
   "cell_type": "markdown",
   "metadata": {
    "slideshow": {
     "slide_type": "fragment"
    }
   },
   "source": [
    "- Using Numpy effectively requires reworking an algorithms to use vectorized operations instead of for-loops, but the resulting operations are often simpler, clearer, and faster than the pure Python equivalent."
   ]
  },
  {
   "cell_type": "markdown",
   "metadata": {
    "slideshow": {
     "slide_type": "subslide"
    }
   },
   "source": [
    "## Review (cont'd)"
   ]
  },
  {
   "cell_type": "markdown",
   "metadata": {
    "slideshow": {
     "slide_type": "-"
    }
   },
   "source": [
    "**UFuncs**, **Selections**, **Reductions** are your core toolbox for construction algorithms with NumPy. \n",
    "\n",
    "**Broadcasting** allows you to naturally generalize algorithms over multiple dimensions. \n",
    "\n",
    "**Strided Memory** is an efficient and flexible underlying representation for arrays, but it can cause confusion when arrays are updated in place."
   ]
  },
  {
   "cell_type": "code",
   "execution_count": null,
   "metadata": {
    "slideshow": {
     "slide_type": "subslide"
    }
   },
   "outputs": [],
   "source": []
  }
 ],
 "metadata": {
  "celltoolbar": "Slideshow",
  "kernelspec": {
   "display_name": "Python 3",
   "language": "python",
   "name": "python3"
  },
  "language_info": {
   "codemirror_mode": {
    "name": "ipython",
    "version": 3
   },
   "file_extension": ".py",
   "mimetype": "text/x-python",
   "name": "python",
   "nbconvert_exporter": "python",
   "pygments_lexer": "ipython3",
   "version": "3.6.3"
  },
  "livereveal": {
   "start_slideshow_at": "selected"
  },
  "name": "Main.ipynb"
 },
 "nbformat": 4,
 "nbformat_minor": 2
}
