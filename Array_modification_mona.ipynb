{
 "cells": [
  {
   "cell_type": "markdown",
   "metadata": {},
   "source": [
    "# Creating and Reshaping Arrays\n",
    "\n",
    "Throughout the rest of this tutorial, it will be useful to be able to quickly construct arrays of various shapes and sizes. The exercises in this notebook will teach you to use a variety of common functions for creating and reshaping arrays."
   ]
  },
  {
   "cell_type": "code",
   "execution_count": 2,
   "metadata": {},
   "outputs": [],
   "source": [
    "import numpy as np\n",
    "import matplotlib.pyplot as plt"
   ]
  },
  {
   "cell_type": "markdown",
   "metadata": {},
   "source": [
    "## Exercise: `np.arange`"
   ]
  },
  {
   "cell_type": "markdown",
   "metadata": {},
   "source": [
    "Construct an array containing all the integers between 1 and 10 inclusive, in ascending order."
   ]
  },
  {
   "cell_type": "code",
   "execution_count": 3,
   "metadata": {},
   "outputs": [],
   "source": [
    "np.arange?"
   ]
  },
  {
   "cell_type": "markdown",
   "metadata": {},
   "source": [
    "Construct an array containing all the integers between 1 and 10 inclusive, in descending order."
   ]
  },
  {
   "cell_type": "code",
   "execution_count": 6,
   "metadata": {},
   "outputs": [
    {
     "data": {
      "text/plain": [
       "array([ 1,  2,  3,  4,  5,  6,  7,  8,  9, 10])"
      ]
     },
     "execution_count": 6,
     "metadata": {},
     "output_type": "execute_result"
    }
   ],
   "source": [
    "np.arange(1, 11)"
   ]
  },
  {
   "cell_type": "markdown",
   "metadata": {},
   "source": [
    "Construct an array containing all the **even** integers between 2 and 10 inclusive, in ascending order."
   ]
  },
  {
   "cell_type": "code",
   "execution_count": 7,
   "metadata": {},
   "outputs": [
    {
     "data": {
      "text/plain": [
       "array([ 2,  4,  6,  8, 10])"
      ]
     },
     "execution_count": 7,
     "metadata": {},
     "output_type": "execute_result"
    }
   ],
   "source": [
    "np.arange(2, 11,2 )"
   ]
  },
  {
   "cell_type": "markdown",
   "metadata": {},
   "source": [
    "## Exercise: `linspace`"
   ]
  },
  {
   "cell_type": "markdown",
   "metadata": {},
   "source": [
    "Construct an array containing 50 evenly-spaced values between -1 and 1."
   ]
  },
  {
   "cell_type": "code",
   "execution_count": 9,
   "metadata": {},
   "outputs": [],
   "source": [
    "np.linspace?"
   ]
  },
  {
   "cell_type": "code",
   "execution_count": 13,
   "metadata": {},
   "outputs": [],
   "source": [
    "lin_arr = np.linspace(-1, 1, 50)"
   ]
  },
  {
   "cell_type": "markdown",
   "metadata": {},
   "source": [
    "Reshape the array to be have 5 rows and 10 columns"
   ]
  },
  {
   "cell_type": "code",
   "execution_count": 14,
   "metadata": {},
   "outputs": [
    {
     "data": {
      "text/plain": [
       "array([[-1.        , -0.95918367, -0.91836735, -0.87755102, -0.83673469,\n",
       "        -0.79591837, -0.75510204, -0.71428571, -0.67346939, -0.63265306],\n",
       "       [-0.59183673, -0.55102041, -0.51020408, -0.46938776, -0.42857143,\n",
       "        -0.3877551 , -0.34693878, -0.30612245, -0.26530612, -0.2244898 ],\n",
       "       [-0.18367347, -0.14285714, -0.10204082, -0.06122449, -0.02040816,\n",
       "         0.02040816,  0.06122449,  0.10204082,  0.14285714,  0.18367347],\n",
       "       [ 0.2244898 ,  0.26530612,  0.30612245,  0.34693878,  0.3877551 ,\n",
       "         0.42857143,  0.46938776,  0.51020408,  0.55102041,  0.59183673],\n",
       "       [ 0.63265306,  0.67346939,  0.71428571,  0.75510204,  0.79591837,\n",
       "         0.83673469,  0.87755102,  0.91836735,  0.95918367,  1.        ]])"
      ]
     },
     "execution_count": 14,
     "metadata": {},
     "output_type": "execute_result"
    }
   ],
   "source": [
    "lin_arr.reshape(5, 10)"
   ]
  },
  {
   "cell_type": "markdown",
   "metadata": {},
   "source": [
    "Reshape the array to have three dimensions. You can choose the orientation."
   ]
  },
  {
   "cell_type": "code",
   "execution_count": 15,
   "metadata": {},
   "outputs": [
    {
     "data": {
      "text/plain": [
       "array([[[-1.        , -0.95918367, -0.91836735, -0.87755102, -0.83673469],\n",
       "        [-0.79591837, -0.75510204, -0.71428571, -0.67346939, -0.63265306]],\n",
       "\n",
       "       [[-0.59183673, -0.55102041, -0.51020408, -0.46938776, -0.42857143],\n",
       "        [-0.3877551 , -0.34693878, -0.30612245, -0.26530612, -0.2244898 ]],\n",
       "\n",
       "       [[-0.18367347, -0.14285714, -0.10204082, -0.06122449, -0.02040816],\n",
       "        [ 0.02040816,  0.06122449,  0.10204082,  0.14285714,  0.18367347]],\n",
       "\n",
       "       [[ 0.2244898 ,  0.26530612,  0.30612245,  0.34693878,  0.3877551 ],\n",
       "        [ 0.42857143,  0.46938776,  0.51020408,  0.55102041,  0.59183673]],\n",
       "\n",
       "       [[ 0.63265306,  0.67346939,  0.71428571,  0.75510204,  0.79591837],\n",
       "        [ 0.83673469,  0.87755102,  0.91836735,  0.95918367,  1.        ]]])"
      ]
     },
     "execution_count": 15,
     "metadata": {},
     "output_type": "execute_result"
    }
   ],
   "source": [
    "lin_arr.reshape(5, 2, 5)"
   ]
  },
  {
   "cell_type": "markdown",
   "metadata": {},
   "source": [
    "## Exercise: `zeros`, `ones`, and`full`"
   ]
  },
  {
   "cell_type": "markdown",
   "metadata": {},
   "source": [
    "Construct arrays containing all 0s with the following shapes:\n",
    "- 1-dimensional array with 10 entries.\n",
    "- 2-dimensional array with 3 rows and 5 columns\n",
    "- 2-dimensional array with 5 rows and 3 columns\n",
    "- 3-dimensional array of shape (2, 5, 10)\n",
    "- 5-dimensional array of shape (1, 2, 3, 4, 5)."
   ]
  },
  {
   "cell_type": "code",
   "execution_count": 21,
   "metadata": {},
   "outputs": [
    {
     "data": {
      "text/plain": [
       "array([[[[[ 0.,  0.,  0.,  0.,  0.],\n",
       "          [ 0.,  0.,  0.,  0.,  0.],\n",
       "          [ 0.,  0.,  0.,  0.,  0.],\n",
       "          [ 0.,  0.,  0.,  0.,  0.]],\n",
       "\n",
       "         [[ 0.,  0.,  0.,  0.,  0.],\n",
       "          [ 0.,  0.,  0.,  0.,  0.],\n",
       "          [ 0.,  0.,  0.,  0.,  0.],\n",
       "          [ 0.,  0.,  0.,  0.,  0.]],\n",
       "\n",
       "         [[ 0.,  0.,  0.,  0.,  0.],\n",
       "          [ 0.,  0.,  0.,  0.,  0.],\n",
       "          [ 0.,  0.,  0.,  0.,  0.],\n",
       "          [ 0.,  0.,  0.,  0.,  0.]]],\n",
       "\n",
       "\n",
       "        [[[ 0.,  0.,  0.,  0.,  0.],\n",
       "          [ 0.,  0.,  0.,  0.,  0.],\n",
       "          [ 0.,  0.,  0.,  0.,  0.],\n",
       "          [ 0.,  0.,  0.,  0.,  0.]],\n",
       "\n",
       "         [[ 0.,  0.,  0.,  0.,  0.],\n",
       "          [ 0.,  0.,  0.,  0.,  0.],\n",
       "          [ 0.,  0.,  0.,  0.,  0.],\n",
       "          [ 0.,  0.,  0.,  0.,  0.]],\n",
       "\n",
       "         [[ 0.,  0.,  0.,  0.,  0.],\n",
       "          [ 0.,  0.,  0.,  0.,  0.],\n",
       "          [ 0.,  0.,  0.,  0.,  0.],\n",
       "          [ 0.,  0.,  0.,  0.,  0.]]]]])"
      ]
     },
     "execution_count": 21,
     "metadata": {},
     "output_type": "execute_result"
    }
   ],
   "source": [
    "np.zeros(10)\n",
    "np.zeros((3, 5))\n",
    "np.zeros((5, 3))\n",
    "np.zeros((2, 5, 10))\n",
    "np.zeros((1, 2, 3, 4, 5))"
   ]
  },
  {
   "cell_type": "markdown",
   "metadata": {},
   "source": [
    "Construct arrays with the same shapes as the previous exercise, but containing all ones."
   ]
  },
  {
   "cell_type": "code",
   "execution_count": null,
   "metadata": {},
   "outputs": [],
   "source": [
    "np.ones?"
   ]
  },
  {
   "cell_type": "markdown",
   "metadata": {},
   "source": [
    "Construct arrays with the same shapes as the previous exercise, but containing the number 42."
   ]
  },
  {
   "cell_type": "code",
   "execution_count": 23,
   "metadata": {},
   "outputs": [
    {
     "data": {
      "text/plain": [
       "array([[[[['na', 'na', 'na', 'na', 'na'],\n",
       "          ['na', 'na', 'na', 'na', 'na'],\n",
       "          ['na', 'na', 'na', 'na', 'na'],\n",
       "          ['na', 'na', 'na', 'na', 'na']],\n",
       "\n",
       "         [['na', 'na', 'na', 'na', 'na'],\n",
       "          ['na', 'na', 'na', 'na', 'na'],\n",
       "          ['na', 'na', 'na', 'na', 'na'],\n",
       "          ['na', 'na', 'na', 'na', 'na']],\n",
       "\n",
       "         [['na', 'na', 'na', 'na', 'na'],\n",
       "          ['na', 'na', 'na', 'na', 'na'],\n",
       "          ['na', 'na', 'na', 'na', 'na'],\n",
       "          ['na', 'na', 'na', 'na', 'na']]],\n",
       "\n",
       "\n",
       "        [[['na', 'na', 'na', 'na', 'na'],\n",
       "          ['na', 'na', 'na', 'na', 'na'],\n",
       "          ['na', 'na', 'na', 'na', 'na'],\n",
       "          ['na', 'na', 'na', 'na', 'na']],\n",
       "\n",
       "         [['na', 'na', 'na', 'na', 'na'],\n",
       "          ['na', 'na', 'na', 'na', 'na'],\n",
       "          ['na', 'na', 'na', 'na', 'na'],\n",
       "          ['na', 'na', 'na', 'na', 'na']],\n",
       "\n",
       "         [['na', 'na', 'na', 'na', 'na'],\n",
       "          ['na', 'na', 'na', 'na', 'na'],\n",
       "          ['na', 'na', 'na', 'na', 'na'],\n",
       "          ['na', 'na', 'na', 'na', 'na']]]]], \n",
       "      dtype='<U2')"
      ]
     },
     "execution_count": 23,
     "metadata": {},
     "output_type": "execute_result"
    }
   ],
   "source": [
    "np.full((1, 2, 3, 4, 5), 'na')"
   ]
  },
  {
   "cell_type": "markdown",
   "metadata": {},
   "source": [
    "## Exercise: `identity`"
   ]
  },
  {
   "cell_type": "markdown",
   "metadata": {},
   "source": [
    "Construct a 5 x 5 array with 1s along the diagonal and zeros everywhere else."
   ]
  },
  {
   "cell_type": "code",
   "execution_count": 9,
   "metadata": {},
   "outputs": [],
   "source": [
    "np.identity?"
   ]
  },
  {
   "cell_type": "code",
   "execution_count": 26,
   "metadata": {},
   "outputs": [
    {
     "data": {
      "text/plain": [
       "array([[ 1.,  0.,  0.],\n",
       "       [ 0.,  1.,  0.],\n",
       "       [ 0.,  0.,  1.]])"
      ]
     },
     "execution_count": 26,
     "metadata": {},
     "output_type": "execute_result"
    }
   ],
   "source": [
    "np.identity(3)"
   ]
  },
  {
   "cell_type": "markdown",
   "metadata": {},
   "source": [
    "## Exercise: `random`"
   ]
  },
  {
   "cell_type": "code",
   "execution_count": 28,
   "metadata": {},
   "outputs": [],
   "source": [
    "rng = np.random.RandomState(seed=42)"
   ]
  },
  {
   "cell_type": "markdown",
   "metadata": {},
   "source": [
    "Construct an array containing 10 values drawn uniformly at random from the interval `[-1, 1]`."
   ]
  },
  {
   "cell_type": "code",
   "execution_count": 31,
   "metadata": {},
   "outputs": [
    {
     "data": {
      "text/plain": [
       "array([ 0.9398197 ,  0.66488528, -0.57532178, -0.63635007, -0.63319098,\n",
       "       -0.39151551,  0.04951286, -0.13610996, -0.41754172,  0.22370579])"
      ]
     },
     "execution_count": 31,
     "metadata": {},
     "output_type": "execute_result"
    }
   ],
   "source": [
    "rng.uniform(-1, 1, 10)"
   ]
  },
  {
   "cell_type": "code",
   "execution_count": 32,
   "metadata": {},
   "outputs": [
    {
     "data": {
      "text/plain": [
       "-0.7210122786959163"
      ]
     },
     "execution_count": 32,
     "metadata": {},
     "output_type": "execute_result"
    }
   ],
   "source": [
    "rng.uniform(-1, 1)"
   ]
  },
  {
   "cell_type": "markdown",
   "metadata": {},
   "source": [
    "Construct a 3 x 3 array with values drawn from a normal distribution centered at 0 with a standard deviation of 2.5."
   ]
  },
  {
   "cell_type": "code",
   "execution_count": 33,
   "metadata": {},
   "outputs": [],
   "source": [
    "rng.normal?"
   ]
  },
  {
   "cell_type": "markdown",
   "metadata": {},
   "source": [
    "# Exercise: `read_csv`"
   ]
  },
  {
   "cell_type": "code",
   "execution_count": 34,
   "metadata": {},
   "outputs": [],
   "source": [
    "import pandas as pd"
   ]
  },
  {
   "cell_type": "markdown",
   "metadata": {},
   "source": [
    "Use `pandas.read_csv` to create a DataFrame from the file `prices.csv` on disk."
   ]
  },
  {
   "cell_type": "code",
   "execution_count": 35,
   "metadata": {},
   "outputs": [],
   "source": [
    "pd.read_csv?"
   ]
  },
  {
   "cell_type": "markdown",
   "metadata": {},
   "source": [
    "Get a numpy array out of the CSV using the `DataFrame.values`"
   ]
  },
  {
   "cell_type": "code",
   "execution_count": 37,
   "metadata": {},
   "outputs": [],
   "source": [
    "df = pd.read_csv('prices.csv')"
   ]
  },
  {
   "cell_type": "code",
   "execution_count": 43,
   "metadata": {},
   "outputs": [
    {
     "data": {
      "text/html": [
       "<div>\n",
       "<table border=\"1\" class=\"dataframe\">\n",
       "  <thead>\n",
       "    <tr style=\"text-align: right;\">\n",
       "      <th></th>\n",
       "      <th>AAPL</th>\n",
       "      <th>MSFT</th>\n",
       "      <th>TSLA</th>\n",
       "      <th>MCD</th>\n",
       "      <th>BK</th>\n",
       "    </tr>\n",
       "  </thead>\n",
       "  <tbody>\n",
       "    <tr>\n",
       "      <th>count</th>\n",
       "      <td>8580.000000</td>\n",
       "      <td>8580.000000</td>\n",
       "      <td>8580.000000</td>\n",
       "      <td>8580.000000</td>\n",
       "      <td>8580.000000</td>\n",
       "    </tr>\n",
       "    <tr>\n",
       "      <th>mean</th>\n",
       "      <td>157.753809</td>\n",
       "      <td>77.941566</td>\n",
       "      <td>344.601973</td>\n",
       "      <td>162.962890</td>\n",
       "      <td>53.292792</td>\n",
       "    </tr>\n",
       "    <tr>\n",
       "      <th>std</th>\n",
       "      <td>3.766029</td>\n",
       "      <td>2.792328</td>\n",
       "      <td>12.581394</td>\n",
       "      <td>3.287932</td>\n",
       "      <td>1.045167</td>\n",
       "    </tr>\n",
       "    <tr>\n",
       "      <th>min</th>\n",
       "      <td>152.580000</td>\n",
       "      <td>73.721000</td>\n",
       "      <td>317.050000</td>\n",
       "      <td>156.050000</td>\n",
       "      <td>51.153000</td>\n",
       "    </tr>\n",
       "    <tr>\n",
       "      <th>25%</th>\n",
       "      <td>155.520000</td>\n",
       "      <td>76.164750</td>\n",
       "      <td>337.324000</td>\n",
       "      <td>160.120000</td>\n",
       "      <td>52.318000</td>\n",
       "    </tr>\n",
       "    <tr>\n",
       "      <th>50%</th>\n",
       "      <td>156.760000</td>\n",
       "      <td>77.515000</td>\n",
       "      <td>349.028000</td>\n",
       "      <td>164.210000</td>\n",
       "      <td>53.504500</td>\n",
       "    </tr>\n",
       "    <tr>\n",
       "      <th>75%</th>\n",
       "      <td>159.401000</td>\n",
       "      <td>78.960000</td>\n",
       "      <td>354.680250</td>\n",
       "      <td>165.401250</td>\n",
       "      <td>54.249000</td>\n",
       "    </tr>\n",
       "    <tr>\n",
       "      <th>max</th>\n",
       "      <td>169.605000</td>\n",
       "      <td>86.150000</td>\n",
       "      <td>362.836000</td>\n",
       "      <td>167.840000</td>\n",
       "      <td>54.956000</td>\n",
       "    </tr>\n",
       "  </tbody>\n",
       "</table>\n",
       "</div>"
      ],
      "text/plain": [
       "              AAPL         MSFT         TSLA          MCD           BK\n",
       "count  8580.000000  8580.000000  8580.000000  8580.000000  8580.000000\n",
       "mean    157.753809    77.941566   344.601973   162.962890    53.292792\n",
       "std       3.766029     2.792328    12.581394     3.287932     1.045167\n",
       "min     152.580000    73.721000   317.050000   156.050000    51.153000\n",
       "25%     155.520000    76.164750   337.324000   160.120000    52.318000\n",
       "50%     156.760000    77.515000   349.028000   164.210000    53.504500\n",
       "75%     159.401000    78.960000   354.680250   165.401250    54.249000\n",
       "max     169.605000    86.150000   362.836000   167.840000    54.956000"
      ]
     },
     "execution_count": 43,
     "metadata": {},
     "output_type": "execute_result"
    }
   ],
   "source": [
    "df.describe()"
   ]
  },
  {
   "cell_type": "code",
   "execution_count": 44,
   "metadata": {},
   "outputs": [
    {
     "data": {
      "text/html": [
       "<div>\n",
       "<table border=\"1\" class=\"dataframe\">\n",
       "  <thead>\n",
       "    <tr style=\"text-align: right;\">\n",
       "      <th></th>\n",
       "      <th>dt</th>\n",
       "      <th>AAPL</th>\n",
       "      <th>MSFT</th>\n",
       "      <th>TSLA</th>\n",
       "      <th>MCD</th>\n",
       "      <th>BK</th>\n",
       "    </tr>\n",
       "  </thead>\n",
       "  <tbody>\n",
       "    <tr>\n",
       "      <th>0</th>\n",
       "      <td>2017-10-02 13:31:00+00:00</td>\n",
       "      <td>154.34</td>\n",
       "      <td>74.880</td>\n",
       "      <td>342.330</td>\n",
       "      <td>156.380</td>\n",
       "      <td>52.736</td>\n",
       "    </tr>\n",
       "    <tr>\n",
       "      <th>1</th>\n",
       "      <td>2017-10-02 13:32:00+00:00</td>\n",
       "      <td>154.07</td>\n",
       "      <td>74.832</td>\n",
       "      <td>341.480</td>\n",
       "      <td>156.660</td>\n",
       "      <td>52.686</td>\n",
       "    </tr>\n",
       "    <tr>\n",
       "      <th>2</th>\n",
       "      <td>2017-10-02 13:33:00+00:00</td>\n",
       "      <td>153.72</td>\n",
       "      <td>74.835</td>\n",
       "      <td>341.830</td>\n",
       "      <td>156.324</td>\n",
       "      <td>52.756</td>\n",
       "    </tr>\n",
       "    <tr>\n",
       "      <th>3</th>\n",
       "      <td>2017-10-02 13:34:00+00:00</td>\n",
       "      <td>153.69</td>\n",
       "      <td>74.890</td>\n",
       "      <td>341.240</td>\n",
       "      <td>156.660</td>\n",
       "      <td>52.726</td>\n",
       "    </tr>\n",
       "    <tr>\n",
       "      <th>4</th>\n",
       "      <td>2017-10-02 13:35:00+00:00</td>\n",
       "      <td>153.45</td>\n",
       "      <td>74.810</td>\n",
       "      <td>341.873</td>\n",
       "      <td>156.670</td>\n",
       "      <td>52.706</td>\n",
       "    </tr>\n",
       "    <tr>\n",
       "      <th>5</th>\n",
       "      <td>2017-10-02 13:36:00+00:00</td>\n",
       "      <td>153.86</td>\n",
       "      <td>74.905</td>\n",
       "      <td>341.782</td>\n",
       "      <td>156.520</td>\n",
       "      <td>52.656</td>\n",
       "    </tr>\n",
       "    <tr>\n",
       "      <th>6</th>\n",
       "      <td>2017-10-02 13:37:00+00:00</td>\n",
       "      <td>153.88</td>\n",
       "      <td>74.920</td>\n",
       "      <td>341.575</td>\n",
       "      <td>156.490</td>\n",
       "      <td>52.676</td>\n",
       "    </tr>\n",
       "    <tr>\n",
       "      <th>7</th>\n",
       "      <td>2017-10-02 13:38:00+00:00</td>\n",
       "      <td>153.72</td>\n",
       "      <td>74.890</td>\n",
       "      <td>340.250</td>\n",
       "      <td>156.440</td>\n",
       "      <td>52.696</td>\n",
       "    </tr>\n",
       "    <tr>\n",
       "      <th>8</th>\n",
       "      <td>2017-10-02 13:39:00+00:00</td>\n",
       "      <td>153.76</td>\n",
       "      <td>74.875</td>\n",
       "      <td>340.730</td>\n",
       "      <td>156.470</td>\n",
       "      <td>52.696</td>\n",
       "    </tr>\n",
       "    <tr>\n",
       "      <th>9</th>\n",
       "      <td>2017-10-02 13:40:00+00:00</td>\n",
       "      <td>153.94</td>\n",
       "      <td>74.870</td>\n",
       "      <td>340.500</td>\n",
       "      <td>156.530</td>\n",
       "      <td>52.696</td>\n",
       "    </tr>\n",
       "  </tbody>\n",
       "</table>\n",
       "</div>"
      ],
      "text/plain": [
       "                          dt    AAPL    MSFT     TSLA      MCD      BK\n",
       "0  2017-10-02 13:31:00+00:00  154.34  74.880  342.330  156.380  52.736\n",
       "1  2017-10-02 13:32:00+00:00  154.07  74.832  341.480  156.660  52.686\n",
       "2  2017-10-02 13:33:00+00:00  153.72  74.835  341.830  156.324  52.756\n",
       "3  2017-10-02 13:34:00+00:00  153.69  74.890  341.240  156.660  52.726\n",
       "4  2017-10-02 13:35:00+00:00  153.45  74.810  341.873  156.670  52.706\n",
       "5  2017-10-02 13:36:00+00:00  153.86  74.905  341.782  156.520  52.656\n",
       "6  2017-10-02 13:37:00+00:00  153.88  74.920  341.575  156.490  52.676\n",
       "7  2017-10-02 13:38:00+00:00  153.72  74.890  340.250  156.440  52.696\n",
       "8  2017-10-02 13:39:00+00:00  153.76  74.875  340.730  156.470  52.696\n",
       "9  2017-10-02 13:40:00+00:00  153.94  74.870  340.500  156.530  52.696"
      ]
     },
     "execution_count": 44,
     "metadata": {},
     "output_type": "execute_result"
    }
   ],
   "source": [
    "df.head(10)"
   ]
  },
  {
   "cell_type": "code",
   "execution_count": 47,
   "metadata": {},
   "outputs": [
    {
     "data": {
      "text/plain": [
       "array([[4, 5, 6],\n",
       "       [5, 6, 7],\n",
       "       [6, 7, 8]])"
      ]
     },
     "execution_count": 47,
     "metadata": {},
     "output_type": "execute_result"
    }
   ],
   "source": [
    "# UFuncs Review\n",
    "np.add.outer([1, 2, 3] , [3, 4, 5])"
   ]
  },
  {
   "cell_type": "code",
   "execution_count": 48,
   "metadata": {},
   "outputs": [],
   "source": [
    "A = np.add.outer([1, 2, 3] , [3, 4, 5])"
   ]
  },
  {
   "cell_type": "code",
   "execution_count": 49,
   "metadata": {},
   "outputs": [
    {
     "data": {
      "text/plain": [
       "(3, 3)"
      ]
     },
     "execution_count": 49,
     "metadata": {},
     "output_type": "execute_result"
    }
   ],
   "source": [
    "A.shape"
   ]
  },
  {
   "cell_type": "code",
   "execution_count": 50,
   "metadata": {},
   "outputs": [
    {
     "data": {
      "text/plain": [
       "9"
      ]
     },
     "execution_count": 50,
     "metadata": {},
     "output_type": "execute_result"
    }
   ],
   "source": [
    "A.size"
   ]
  },
  {
   "cell_type": "code",
   "execution_count": 52,
   "metadata": {},
   "outputs": [
    {
     "data": {
      "text/plain": [
       "dtype('int64')"
      ]
     },
     "execution_count": 52,
     "metadata": {},
     "output_type": "execute_result"
    }
   ],
   "source": [
    "A.dtype"
   ]
  },
  {
   "cell_type": "code",
   "execution_count": 53,
   "metadata": {},
   "outputs": [],
   "source": [
    "import matplotlib.pyplot as plt"
   ]
  },
  {
   "cell_type": "code",
   "execution_count": 61,
   "metadata": {},
   "outputs": [],
   "source": [
    "x=np.linspace(-10, 10, 50)\n",
    "sines = np.sin(x)"
   ]
  },
  {
   "cell_type": "code",
   "execution_count": 62,
   "metadata": {},
   "outputs": [
    {
     "data": {
      "text/plain": [
       "[<matplotlib.lines.Line2D at 0x7fef23b4cb70>]"
      ]
     },
     "execution_count": 62,
     "metadata": {},
     "output_type": "execute_result"
    },
    {
     "data": {
      "image/png": "[encoded data removed]",
      "text/plain": [
       "<matplotlib.figure.Figure at 0x7fef23bfc908>"
      ]
     },
     "metadata": {},
     "output_type": "display_data"
    }
   ],
   "source": [
    "plt.plot(sines)"
   ]
  },
  {
   "cell_type": "code",
   "execution_count": 64,
   "metadata": {},
   "outputs": [
    {
     "data": {
      "text/plain": [
       "array([ 0.54402111, -0.8710967 , -0.75762842])"
      ]
     },
     "execution_count": 64,
     "metadata": {},
     "output_type": "execute_result"
    }
   ],
   "source": [
    "sines[[0 ,4 ,7]]"
   ]
  },
  {
   "cell_type": "code",
   "execution_count": 65,
   "metadata": {},
   "outputs": [
    {
     "name": "stdout",
     "output_type": "stream",
     "text": [
      "[ 0.54402111  0.16628279 -0.23877532 -0.60460332 -0.8710967  -0.99447137\n",
      " -0.9544572  -0.75762842 -0.43632343 -0.04333173  0.35677924  0.6982724\n",
      "  0.92504137  0.99982867  0.91034694  0.67129779  0.32195632 -0.08028167\n",
      " -0.46932961 -0.78126802 -0.96484631 -0.98990308 -0.85232157 -0.57470604\n",
      " -0.20266794  0.20266794  0.57470604  0.85232157  0.98990308  0.96484631\n",
      "  0.78126802  0.46932961  0.08028167 -0.32195632 -0.67129779 -0.91034694\n",
      " -0.99982867 -0.92504137 -0.6982724  -0.35677924  0.04333173  0.43632343\n",
      "  0.75762842  0.9544572   0.99447137  0.8710967   0.60460332  0.23877532\n",
      " -0.16628279 -0.54402111]\n"
     ]
    }
   ],
   "source": [
    "print(sines)"
   ]
  },
  {
   "cell_type": "code",
   "execution_count": 66,
   "metadata": {},
   "outputs": [
    {
     "name": "stdout",
     "output_type": "stream",
     "text": [
      "[False False False False False False False False False False False False\n",
      "  True  True  True False False False False False False False False False\n",
      " False False False  True  True  True  True False False False False False\n",
      " False False False False False False  True  True  True  True False False\n",
      " False False]\n"
     ]
    }
   ],
   "source": [
    "print(sines > 0.7)"
   ]
  },
  {
   "cell_type": "code",
   "execution_count": 70,
   "metadata": {},
   "outputs": [],
   "source": [
    "unsorted = np.array([1, 10, 6, 4, 9, 2, 10, 123, 2])"
   ]
  },
  {
   "cell_type": "code",
   "execution_count": 71,
   "metadata": {},
   "outputs": [],
   "source": [
    "sort_indices = np.argsort(unsorted)"
   ]
  },
  {
   "cell_type": "code",
   "execution_count": 72,
   "metadata": {},
   "outputs": [
    {
     "data": {
      "text/plain": [
       "array([0, 5, 8, 3, 2, 4, 1, 6, 7])"
      ]
     },
     "execution_count": 72,
     "metadata": {},
     "output_type": "execute_result"
    }
   ],
   "source": [
    "sort_indices"
   ]
  },
  {
   "cell_type": "code",
   "execution_count": 74,
   "metadata": {},
   "outputs": [
    {
     "data": {
      "text/plain": [
       "array([  1,   2,   2,   4,   6,   9,  10,  10, 123])"
      ]
     },
     "execution_count": 74,
     "metadata": {},
     "output_type": "execute_result"
    }
   ],
   "source": [
    "unsorted[sort_indices]"
   ]
  },
  {
   "cell_type": "code",
   "execution_count": 75,
   "metadata": {},
   "outputs": [],
   "source": [
    "import datetime"
   ]
  },
  {
   "cell_type": "code",
   "execution_count": 78,
   "metadata": {},
   "outputs": [],
   "source": [
    "today = datetime.datetime.now()"
   ]
  },
  {
   "cell_type": "code",
   "execution_count": 79,
   "metadata": {},
   "outputs": [
    {
     "data": {
      "text/plain": [
       "'2018-05-06 18:59:03.642394'"
      ]
     },
     "execution_count": 79,
     "metadata": {},
     "output_type": "execute_result"
    }
   ],
   "source": [
    "str(today)"
   ]
  },
  {
   "cell_type": "code",
   "execution_count": 80,
   "metadata": {},
   "outputs": [
    {
     "data": {
      "text/plain": [
       "'datetime.datetime(2018, 5, 6, 18, 59, 3, 642394)'"
      ]
     },
     "execution_count": 80,
     "metadata": {},
     "output_type": "execute_result"
    }
   ],
   "source": [
    "repr(today)"
   ]
  },
  {
   "cell_type": "code",
   "execution_count": 81,
   "metadata": {},
   "outputs": [],
   "source": [
    "#dtype='datetime64[D]'"
   ]
  },
  {
   "cell_type": "code",
   "execution_count": 82,
   "metadata": {},
   "outputs": [],
   "source": [
    "a = np.arange(25).reshape(5, 5)"
   ]
  },
  {
   "cell_type": "code",
   "execution_count": 83,
   "metadata": {},
   "outputs": [
    {
     "data": {
      "text/plain": [
       "array([[ 0,  1,  2,  3,  4],\n",
       "       [ 5,  6,  7,  8,  9],\n",
       "       [10, 11, 12, 13, 14],\n",
       "       [15, 16, 17, 18, 19],\n",
       "       [20, 21, 22, 23, 24]])"
      ]
     },
     "execution_count": 83,
     "metadata": {},
     "output_type": "execute_result"
    }
   ],
   "source": [
    "a"
   ]
  },
  {
   "cell_type": "code",
   "execution_count": 84,
   "metadata": {},
   "outputs": [
    {
     "data": {
      "text/plain": [
       "array([[0, 1],\n",
       "       [5, 6]])"
      ]
     },
     "execution_count": 84,
     "metadata": {},
     "output_type": "execute_result"
    }
   ],
   "source": [
    "a[:2, :2]"
   ]
  },
  {
   "cell_type": "code",
   "execution_count": 85,
   "metadata": {},
   "outputs": [
    {
     "data": {
      "text/plain": [
       "array([[ 0,  4],\n",
       "       [ 5,  9],\n",
       "       [10, 14],\n",
       "       [15, 19],\n",
       "       [20, 24]])"
      ]
     },
     "execution_count": 85,
     "metadata": {},
     "output_type": "execute_result"
    }
   ],
   "source": [
    "a[:, [0, -1]]"
   ]
  },
  {
   "cell_type": "code",
   "execution_count": 86,
   "metadata": {},
   "outputs": [
    {
     "data": {
      "text/plain": [
       "6"
      ]
     },
     "execution_count": 86,
     "metadata": {},
     "output_type": "execute_result"
    }
   ],
   "source": [
    "a[1, 1]"
   ]
  },
  {
   "cell_type": "code",
   "execution_count": 89,
   "metadata": {},
   "outputs": [
    {
     "data": {
      "text/plain": [
       "array([[ 0,  1,  2,  3,  4],\n",
       "       [10, 11, 12, 13, 14],\n",
       "       [20, 21, 22, 23, 24]])"
      ]
     },
     "execution_count": 89,
     "metadata": {},
     "output_type": "execute_result"
    }
   ],
   "source": [
    "a[(a[:, 0] % 2 == 0)] "
   ]
  },
  {
   "cell_type": "code",
   "execution_count": 91,
   "metadata": {},
   "outputs": [
    {
     "data": {
      "text/plain": [
       "array([ True, False,  True, False,  True], dtype=bool)"
      ]
     },
     "execution_count": 91,
     "metadata": {},
     "output_type": "execute_result"
    }
   ],
   "source": [
    "a[:, 0] % 2 == 0"
   ]
  },
  {
   "cell_type": "code",
   "execution_count": 92,
   "metadata": {},
   "outputs": [
    {
     "data": {
      "text/plain": [
       "array([ 0, 12, 24])"
      ]
     },
     "execution_count": 92,
     "metadata": {},
     "output_type": "execute_result"
    }
   ],
   "source": [
    "a[(a[:, 0] % 2 == 0), (a[:, 0] % 2 == 0)] "
   ]
  },
  {
   "cell_type": "code",
   "execution_count": null,
   "metadata": {},
   "outputs": [],
   "source": []
  }
 ],
 "metadata": {
  "kernelspec": {
   "display_name": "Python 3",
   "language": "python",
   "name": "python3"
  },
  "language_info": {
   "codemirror_mode": {
    "name": "ipython",
    "version": 3
   },
   "file_extension": ".py",
   "mimetype": "text/x-python",
   "name": "python",
   "nbconvert_exporter": "python",
   "pygments_lexer": "ipython3",
   "version": "3.6.3"
  }
 },
 "nbformat": 4,
 "nbformat_minor": 2
}
